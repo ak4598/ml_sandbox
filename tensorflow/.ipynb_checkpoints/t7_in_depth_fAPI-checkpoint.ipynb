{
 "cells": [
  {
   "cell_type": "code",
   "execution_count": 1,
   "metadata": {},
   "outputs": [],
   "source": [
    "import tensorflow as tf\n",
    "from tensorflow import keras\n",
    "from tensorflow.keras import layers, regularizers\n",
    "from tensorflow.keras.datasets import mnist\n",
    "import pandas as pd\n",
    "import os"
   ]
  },
  {
   "cell_type": "code",
   "execution_count": 2,
   "metadata": {},
   "outputs": [],
   "source": [
    "#HYPERPARAMETERS\n",
    "BATCH_SIZE = 64\n",
    "WEIGHT_DECAY = 0.001\n",
    "LEARNING_RATE = 0.001\n",
    "\n",
    "physical_devices = tf.config.list_physical_devices(\"GPU\")\n",
    "tf.config.experimental.set_memory_growth(physical_devices[0], True)"
   ]
  },
  {
   "cell_type": "code",
   "execution_count": 3,
   "metadata": {},
   "outputs": [],
   "source": [
    "train_df = pd.read_csv('multi_digits_mnist/train.csv')\n",
    "test_df = pd.read_csv('multi_digits_mnist/test.csv')"
   ]
  },
  {
   "cell_type": "code",
   "execution_count": 4,
   "metadata": {},
   "outputs": [
    {
     "data": {
      "text/html": [
       "<div>\n",
       "<style scoped>\n",
       "    .dataframe tbody tr th:only-of-type {\n",
       "        vertical-align: middle;\n",
       "    }\n",
       "\n",
       "    .dataframe tbody tr th {\n",
       "        vertical-align: top;\n",
       "    }\n",
       "\n",
       "    .dataframe thead th {\n",
       "        text-align: right;\n",
       "    }\n",
       "</style>\n",
       "<table border=\"1\" class=\"dataframe\">\n",
       "  <thead>\n",
       "    <tr style=\"text-align: right;\">\n",
       "      <th></th>\n",
       "      <th>Image</th>\n",
       "      <th>first_num</th>\n",
       "      <th>second_num</th>\n",
       "    </tr>\n",
       "  </thead>\n",
       "  <tbody>\n",
       "    <tr>\n",
       "      <th>0</th>\n",
       "      <td>0_00.png</td>\n",
       "      <td>0</td>\n",
       "      <td>0</td>\n",
       "    </tr>\n",
       "    <tr>\n",
       "      <th>1</th>\n",
       "      <td>100_00.png</td>\n",
       "      <td>0</td>\n",
       "      <td>0</td>\n",
       "    </tr>\n",
       "    <tr>\n",
       "      <th>2</th>\n",
       "      <td>101_00.png</td>\n",
       "      <td>0</td>\n",
       "      <td>0</td>\n",
       "    </tr>\n",
       "    <tr>\n",
       "      <th>3</th>\n",
       "      <td>102_00.png</td>\n",
       "      <td>0</td>\n",
       "      <td>0</td>\n",
       "    </tr>\n",
       "    <tr>\n",
       "      <th>4</th>\n",
       "      <td>103_00.png</td>\n",
       "      <td>0</td>\n",
       "      <td>0</td>\n",
       "    </tr>\n",
       "  </tbody>\n",
       "</table>\n",
       "</div>"
      ],
      "text/plain": [
       "        Image  first_num  second_num\n",
       "0    0_00.png          0           0\n",
       "1  100_00.png          0           0\n",
       "2  101_00.png          0           0\n",
       "3  102_00.png          0           0\n",
       "4  103_00.png          0           0"
      ]
     },
     "execution_count": 4,
     "metadata": {},
     "output_type": "execute_result"
    }
   ],
   "source": [
    "train_df.head()"
   ]
  },
  {
   "cell_type": "code",
   "execution_count": 5,
   "metadata": {},
   "outputs": [
    {
     "data": {
      "text/plain": [
       "array(['0_00.png', '100_00.png', '101_00.png', ..., '999_98.png',\n",
       "       '99_98.png', '9_98.png'], dtype=object)"
      ]
     },
     "execution_count": 5,
     "metadata": {},
     "output_type": "execute_result"
    }
   ],
   "source": [
    "train_df.iloc[:,0].values #all rows, index 0 column"
   ]
  },
  {
   "cell_type": "code",
   "execution_count": 6,
   "metadata": {},
   "outputs": [],
   "source": [
    "train_images = 'multi_digits_mnist/train_images/'+train_df.iloc[:,0].values\n",
    "test_images = 'multi_digits_mnist/test_images/'+test_df.iloc[:,0].values"
   ]
  },
  {
   "cell_type": "code",
   "execution_count": 7,
   "metadata": {},
   "outputs": [
    {
     "data": {
      "text/plain": [
       "array(['multi_digits_mnist/train_images/0_00.png',\n",
       "       'multi_digits_mnist/train_images/100_00.png',\n",
       "       'multi_digits_mnist/train_images/101_00.png', ...,\n",
       "       'multi_digits_mnist/train_images/999_98.png',\n",
       "       'multi_digits_mnist/train_images/99_98.png',\n",
       "       'multi_digits_mnist/train_images/9_98.png'], dtype=object)"
      ]
     },
     "execution_count": 7,
     "metadata": {},
     "output_type": "execute_result"
    }
   ],
   "source": [
    "train_images"
   ]
  },
  {
   "cell_type": "code",
   "execution_count": 8,
   "metadata": {},
   "outputs": [],
   "source": [
    "train_labels = train_df.iloc[:,1:].values\n",
    "test_labels = test_df.iloc[:,1:].values"
   ]
  },
  {
   "cell_type": "code",
   "execution_count": 9,
   "metadata": {},
   "outputs": [
    {
     "data": {
      "text/plain": [
       "array([[0, 0],\n",
       "       [0, 0],\n",
       "       [0, 0],\n",
       "       ...,\n",
       "       [9, 8],\n",
       "       [9, 8],\n",
       "       [9, 8]], dtype=int64)"
      ]
     },
     "execution_count": 9,
     "metadata": {},
     "output_type": "execute_result"
    }
   ],
   "source": [
    "train_labels"
   ]
  },
  {
   "cell_type": "code",
   "execution_count": 10,
   "metadata": {},
   "outputs": [],
   "source": [
    "def read_image(image_path, label):\n",
    "    image = tf.io.read_file(image_path)\n",
    "    image = tf.image.decode_image(image, channels=1, dtype=tf.float32)\n",
    "    \n",
    "    labels = {'first_num':label[0],'second_num':label[1]}\n",
    "    return image, labels"
   ]
  },
  {
   "cell_type": "code",
   "execution_count": 11,
   "metadata": {},
   "outputs": [
    {
     "data": {
      "text/plain": [
       "<TensorSliceDataset shapes: ((), (2,)), types: (tf.string, tf.int64)>"
      ]
     },
     "execution_count": 11,
     "metadata": {},
     "output_type": "execute_result"
    }
   ],
   "source": [
    "AUTOTUNE = tf.data.experimental.AUTOTUNE\n",
    "train_dataset = tf.data.Dataset.from_tensor_slices((train_images,train_labels))\n",
    "train_dataset"
   ]
  },
  {
   "cell_type": "code",
   "execution_count": 12,
   "metadata": {},
   "outputs": [],
   "source": [
    "train_dataset = (train_dataset.shuffle(buffer_size=len(train_labels))\n",
    "                .map(read_image)\n",
    "                .batch(batch_size=BATCH_SIZE)\n",
    "                .prefetch(buffer_size=AUTOTUNE))"
   ]
  },
  {
   "cell_type": "code",
   "execution_count": 13,
   "metadata": {},
   "outputs": [],
   "source": [
    "test_dataset = tf.data.Dataset.from_tensor_slices((test_images,test_labels))\n",
    "test_dataset = (test_dataset.map(read_image)\n",
    "                .batch(batch_size=BATCH_SIZE)\n",
    "                .prefetch(buffer_size=AUTOTUNE))"
   ]
  },
  {
   "cell_type": "code",
   "execution_count": 14,
   "metadata": {},
   "outputs": [],
   "source": [
    "inputs = keras.Input(shape = (64,64,1))\n",
    "\n",
    "x = layers.Conv2D(\n",
    "    filters=32,\n",
    "    kernel_size=3,\n",
    "    padding='same',\n",
    "    kernel_regularizer = regularizers.l2(WEIGHT_DECAY))(inputs)\n",
    "\n",
    "x = layers.BatchNormalization()(x)\n",
    "\n",
    "x = keras.activations.relu(x)\n",
    "\n",
    "x = layers.Conv2D(\n",
    "    filters=64,\n",
    "    kernel_size=3,\n",
    "    padding='same',\n",
    "    kernel_regularizer = regularizers.l2(WEIGHT_DECAY))(x)\n",
    "\n",
    "x = layers.BatchNormalization()(x)\n",
    "\n",
    "x = keras.activations.relu(x)\n",
    "\n",
    "x = layers.MaxPooling2D()(x)\n",
    "\n",
    "x = layers.Conv2D(\n",
    "    filters=64,\n",
    "    kernel_size=3,\n",
    "    padding='same',\n",
    "    activation='relu',\n",
    "    kernel_regularizer = regularizers.l2(WEIGHT_DECAY))(x)\n",
    "\n",
    "x = layers.Conv2D(\n",
    "    filters=128,\n",
    "    kernel_size=3,\n",
    "    padding='same',\n",
    "    activation='relu')(x)\n",
    "\n",
    "x = layers.MaxPooling2D()(x)\n",
    "\n",
    "x = layers.Flatten()(x)\n",
    "\n",
    "x = layers.Dense(128, activation='relu')(x)\n",
    "\n",
    "x = layers.Dropout(0.5)(x)\n",
    "\n",
    "x = layers.Dense(64, activation='relu')(x)\n",
    "\n",
    "output1 = layers.Dense(10,activation='softmax', name='first_num')(x)\n",
    "output2 = layers.Dense(10,activation='softmax', name='second_num')(x)\n",
    "\n",
    "model = keras.Model(inputs=inputs, outputs=[output1, output2])"
   ]
  },
  {
   "cell_type": "code",
   "execution_count": 15,
   "metadata": {},
   "outputs": [],
   "source": [
    "model.compile(\n",
    "    optimizer=keras.optimizers.Adam(LEARNING_RATE),\n",
    "    loss = [\n",
    "        keras.losses.SparseCategoricalCrossentropy(),\n",
    "        keras.losses.SparseCategoricalCrossentropy() #only one also ok if same\n",
    "    ],\n",
    "    metrics=['accuracy'])"
   ]
  },
  {
   "cell_type": "code",
   "execution_count": 16,
   "metadata": {},
   "outputs": [
    {
     "name": "stdout",
     "output_type": "stream",
     "text": [
      "Epoch 1/5\n",
      "1000/1000 [==============================] - 82s 76ms/step - loss: 2.9477 - first_num_loss: 1.4296 - second_num_loss: 1.4276 - first_num_accuracy: 0.4940 - second_num_accuracy: 0.4920\n",
      "Epoch 2/5\n",
      "1000/1000 [==============================] - 71s 71ms/step - loss: 0.6514 - first_num_loss: 0.2980 - second_num_loss: 0.2877 - first_num_accuracy: 0.9008 - second_num_accuracy: 0.9031\n",
      "Epoch 3/5\n",
      "1000/1000 [==============================] - 70s 70ms/step - loss: 0.4385 - first_num_loss: 0.1896 - second_num_loss: 0.1923 - first_num_accuracy: 0.9375 - second_num_accuracy: 0.9376\n",
      "Epoch 4/5\n",
      "1000/1000 [==============================] - 70s 70ms/step - loss: 0.3511 - first_num_loss: 0.1538 - second_num_loss: 0.1463 - first_num_accuracy: 0.9505 - second_num_accuracy: 0.9520\n",
      "Epoch 5/5\n",
      "1000/1000 [==============================] - 70s 70ms/step - loss: 0.3052 - first_num_loss: 0.1321 - second_num_loss: 0.1249 - first_num_accuracy: 0.9562 - second_num_accuracy: 0.9585\n",
      "313/313 [==============================] - 54s 173ms/step - loss: 1.1680 - first_num_loss: 0.5626 - second_num_loss: 0.5585 - first_num_accuracy: 0.8359 - second_num_accuracy: 0.8400\n"
     ]
    },
    {
     "data": {
      "text/plain": [
       "[1.1679807901382446,\n",
       " 0.5625738501548767,\n",
       " 0.5585225820541382,\n",
       " 0.8358500003814697,\n",
       " 0.8399500250816345]"
      ]
     },
     "execution_count": 16,
     "metadata": {},
     "output_type": "execute_result"
    }
   ],
   "source": [
    "model.fit(train_dataset,epochs=5)\n",
    "model.evaluate(test_dataset,verbose=1)"
   ]
  }
 ],
 "metadata": {
  "kernelspec": {
   "display_name": "Python 3",
   "language": "python",
   "name": "python3"
  },
  "language_info": {
   "codemirror_mode": {
    "name": "ipython",
    "version": 3
   },
   "file_extension": ".py",
   "mimetype": "text/x-python",
   "name": "python",
   "nbconvert_exporter": "python",
   "pygments_lexer": "ipython3",
   "version": "3.8.5"
  }
 },
 "nbformat": 4,
 "nbformat_minor": 4
}
