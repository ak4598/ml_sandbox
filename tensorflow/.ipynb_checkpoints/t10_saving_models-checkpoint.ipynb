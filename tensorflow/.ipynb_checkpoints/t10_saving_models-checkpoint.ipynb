{
 "cells": [
  {
   "cell_type": "code",
   "execution_count": 1,
   "metadata": {},
   "outputs": [],
   "source": [
    "import tensorflow as tf\n",
    "from tensorflow import keras\n",
    "from tensorflow.keras import layers, regularizers\n",
    "from tensorflow.keras.datasets import mnist\n",
    "import os\n",
    "os.environ['TF_CPP_MIN_LOG_LEVEL'] = '2'\n",
    "physical_devices = tf.config.list_physical_devices(\"GPU\")\n",
    "tf.config.experimental.set_memory_growth(physical_devices[0], True)"
   ]
  },
  {
   "cell_type": "code",
   "execution_count": 2,
   "metadata": {},
   "outputs": [],
   "source": [
    "(x_train,y_train),(x_test,y_test) = mnist.load_data()\n",
    "x_train = x_train.reshape(-1,28*28).astype('float32')/255.0\n",
    "x_test = x_test.reshape(-1,28*28).astype('float32')/255.0"
   ]
  },
  {
   "cell_type": "code",
   "execution_count": 3,
   "metadata": {},
   "outputs": [],
   "source": [
    "# class Dense(layers.Layer):\n",
    "#     def __init__(self, units, input_dim):\n",
    "#         super().__init__()\n",
    "#         self.w = self.add_weight(\n",
    "#                     name='w',\n",
    "#                     shape=(input_dim, units),\n",
    "#                     initializer='random_normal',\n",
    "#                     trainable=True)\n",
    "#         self.b = self.add_weight(\n",
    "#                     name='b',\n",
    "#                     shape=(units,),\n",
    "#                     initializer='zeros',\n",
    "#                     trainable=True)\n",
    "    \n",
    "#     def call(self, inputs):\n",
    "#         return tf.matmul(inputs, self.w) + self.b"
   ]
  },
  {
   "cell_type": "code",
   "execution_count": 4,
   "metadata": {},
   "outputs": [],
   "source": [
    "class MyReLU(layers.Layer):\n",
    "    def __init__(self):\n",
    "        super().__init__()\n",
    "        \n",
    "    def call(self, x):\n",
    "        return tf.math.maximum(x,0)"
   ]
  },
  {
   "cell_type": "code",
   "execution_count": 5,
   "metadata": {},
   "outputs": [],
   "source": [
    "class Dense(layers.Layer):\n",
    "    def __init__(self, units):\n",
    "        super().__init__()\n",
    "        self.units = units\n",
    "    \n",
    "    def call(self, inputs):\n",
    "        return tf.matmul(inputs, self.w) + self.b\n",
    "    \n",
    "    def build(self, input_shape):\n",
    "        self.w = self.add_weight(\n",
    "                    name='w',\n",
    "                    shape=(input_shape[-1], self.units),\n",
    "                    initializer='random_normal',\n",
    "                    trainable=True)\n",
    "        self.b = self.add_weight(\n",
    "                    name='b',\n",
    "                    shape=(self.units,),\n",
    "                    initializer='zeros',\n",
    "                    trainable=True)       "
   ]
  },
  {
   "cell_type": "code",
   "execution_count": 6,
   "metadata": {},
   "outputs": [
    {
     "name": "stdout",
     "output_type": "stream",
     "text": [
      "Epoch 1/2\n",
      "1875/1875 [==============================] - 4s 2ms/step - loss: 0.5922 - accuracy: 0.8462\n",
      "Epoch 2/2\n",
      "1875/1875 [==============================] - 4s 2ms/step - loss: 0.1746 - accuracy: 0.9496\n",
      "313/313 [==============================] - 1s 2ms/step - loss: 0.1459 - accuracy: 0.9567\n"
     ]
    },
    {
     "data": {
      "text/plain": [
       "[0.14589618146419525, 0.9567000269889832]"
      ]
     },
     "execution_count": 6,
     "metadata": {},
     "output_type": "execute_result"
    }
   ],
   "source": [
    "class MyModel(keras.Model):\n",
    "    def __init__(self, num_classes=10):\n",
    "        super().__init__()\n",
    "        self.dense1 = Dense(64)\n",
    "        self.dense2 = Dense(num_classes)\n",
    "        self.relu = MyReLU()\n",
    "        \n",
    "#         self.dense1 = Dense(64,784)  #without build\n",
    "#         self.dense2 = Dense(10,64)   #without build\n",
    "        \n",
    "#         self.dense1 = layers.Dense(64)\n",
    "#         self.dense2 = layers.Dense(num_classes)\n",
    "    \n",
    "    def call(self, input_tensor):\n",
    "#         x = tf.nn.relu(self.dense1(input_tensor))\n",
    "        x = self.relu(self.dense1(input_tensor))\n",
    "        return tf.nn.softmax(self.dense2(x))\n",
    "    \n",
    "model = MyModel()\n",
    "\n",
    "model.compile(\n",
    "    loss=keras.losses.SparseCategoricalCrossentropy(),\n",
    "    optimizer=keras.optimizers.Adam(),\n",
    "    metrics=['accuracy'])\n",
    "\n",
    "model.fit(x_train,y_train,batch_size=32,epochs=2)\n",
    "model.evaluate(x_test,y_test,batch_size=32)"
   ]
  }
 ],
 "metadata": {
  "kernelspec": {
   "display_name": "Python 3",
   "language": "python",
   "name": "python3"
  },
  "language_info": {
   "codemirror_mode": {
    "name": "ipython",
    "version": 3
   },
   "file_extension": ".py",
   "mimetype": "text/x-python",
   "name": "python",
   "nbconvert_exporter": "python",
   "pygments_lexer": "ipython3",
   "version": "3.8.5"
  }
 },
 "nbformat": 4,
 "nbformat_minor": 4
}
