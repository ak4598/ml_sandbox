{
 "cells": [
  {
   "cell_type": "code",
   "execution_count": 1,
   "metadata": {},
   "outputs": [],
   "source": [
    "import os\n",
    "os.environ['TF_CPP_MIN_LOG_LEVEL'] = '2'\n",
    "\n",
    "import tensorflow as tf\n",
    "from tensorflow import keras\n",
    "from tensorflow.keras import layers\n",
    "from tensorflow.keras.datasets import mnist"
   ]
  },
  {
   "cell_type": "code",
   "execution_count": 2,
   "metadata": {},
   "outputs": [],
   "source": [
    "(x_train, y_train), (x_test, y_test) = mnist.load_data()\n",
    "x_train = x_train.reshape(-1,28,28,1).astype('float32')/255.0\n",
    "x_test = x_test.reshape(-1,28,28,1).astype('float32')/255.0\n",
    "\n",
    "model = keras.Sequential(\n",
    "    [\n",
    "        layers.Input(shape=(28,28,1)),\n",
    "        layers.Conv2D(64,3,padding='same',activation='relu'),\n",
    "        layers.Conv2D(128,3,padding='same',activation='relu'),\n",
    "        layers.Flatten(),\n",
    "        layers.Dense(10,activation='softmax')\n",
    "    ],\n",
    "    name='model'\n",
    ")"
   ]
  },
  {
   "cell_type": "code",
   "execution_count": 3,
   "metadata": {},
   "outputs": [],
   "source": [
    "class CustomFit(keras.Model):\n",
    "    def __init__(self, model):\n",
    "        super().__init__()\n",
    "        self.model = model\n",
    "    \n",
    "    def compile(self, optimizer, loss):\n",
    "        super().compile()\n",
    "        self.optimizer = optimizer\n",
    "        self.loss = loss\n",
    "    \n",
    "    def train_step(self, data):\n",
    "        x, y = data\n",
    "        \n",
    "        with tf.GradientTape() as tape:\n",
    "            y_pred = self.model(x, training=True)\n",
    "            loss = self.loss(y, y_pred)\n",
    "            #loss = self.compiled_loss(y, y_pred)\n",
    "        \n",
    "        training_vars = self.trainable_variables\n",
    "        gradients = tape.gradient(loss, training_vars)\n",
    "        \n",
    "        self.optimizer.apply_gradients(zip(gradients, training_vars))\n",
    "        acc_metric.update_state(y, y_pred)\n",
    "        #self.compiled_metrics.update_state(y, y_pred)\n",
    "        \n",
    "        #return {m.name: m.result() for m in self.metrics}\n",
    "        return {'loss':loss, 'accuracy':acc_metric.result()}\n",
    "    \n",
    "    def test_step(self, data):\n",
    "        x, y = data\n",
    "        \n",
    "        y_pred = self.model(x, training=False)\n",
    "        loss = self.loss(y, y_pred)\n",
    "        acc_metric.update_state(y, y_pred)\n",
    "        \n",
    "        return {'loss':loss, 'accuracy':acc_metric.result()}"
   ]
  },
  {
   "cell_type": "code",
   "execution_count": 4,
   "metadata": {},
   "outputs": [
    {
     "name": "stdout",
     "output_type": "stream",
     "text": [
      "Epoch 1/5\n",
      "1875/1875 [==============================] - 20s 10ms/step - loss: 0.1099 - accuracy: 0.9358\n",
      "Epoch 2/5\n",
      "1875/1875 [==============================] - 19s 10ms/step - loss: 0.0404 - accuracy: 0.9737\n",
      "Epoch 3/5\n",
      "1875/1875 [==============================] - 19s 10ms/step - loss: 0.0249 - accuracy: 0.9802\n",
      "Epoch 4/5\n",
      "1875/1875 [==============================] - 19s 10ms/step - loss: 0.0148 - accuracy: 0.9841\n",
      "Epoch 5/5\n",
      "1875/1875 [==============================] - 19s 10ms/step - loss: 0.0107 - accuracy: 0.9866\n"
     ]
    },
    {
     "data": {
      "text/plain": [
       "<tensorflow.python.keras.callbacks.History at 0x2661c01f850>"
      ]
     },
     "execution_count": 4,
     "metadata": {},
     "output_type": "execute_result"
    }
   ],
   "source": [
    "acc_metric = keras.metrics.SparseCategoricalAccuracy(name='accuracy')\n",
    "\n",
    "training = CustomFit(model)\n",
    "\n",
    "training.compile(\n",
    "    loss=keras.losses.SparseCategoricalCrossentropy(),\n",
    "    optimizer=keras.optimizers.Adam())\n",
    "\n",
    "training.fit(x_train, y_train, batch_size=32, epochs=5)"
   ]
  },
  {
   "cell_type": "code",
   "execution_count": 5,
   "metadata": {
    "scrolled": false
   },
   "outputs": [
    {
     "name": "stdout",
     "output_type": "stream",
     "text": [
      "313/313 [==============================] - 1s 4ms/step - loss: 0.0501 - accuracy: 0.9876\n"
     ]
    },
    {
     "data": {
      "text/plain": [
       "[0.9876096844673157, 0.00023556053929496557]"
      ]
     },
     "execution_count": 5,
     "metadata": {},
     "output_type": "execute_result"
    }
   ],
   "source": [
    "training.evaluate(x_test, y_test, batch_size=32)"
   ]
  }
 ],
 "metadata": {
  "kernelspec": {
   "display_name": "Python 3",
   "language": "python",
   "name": "python3"
  },
  "language_info": {
   "codemirror_mode": {
    "name": "ipython",
    "version": 3
   },
   "file_extension": ".py",
   "mimetype": "text/x-python",
   "name": "python",
   "nbconvert_exporter": "python",
   "pygments_lexer": "ipython3",
   "version": "3.8.5"
  }
 },
 "nbformat": 4,
 "nbformat_minor": 4
}
