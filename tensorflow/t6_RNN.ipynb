{
 "cells": [
  {
   "cell_type": "code",
   "execution_count": 1,
   "metadata": {},
   "outputs": [],
   "source": [
    "import tensorflow as tf\n",
    "from tensorflow import keras\n",
    "from tensorflow.keras import layers\n",
    "from tensorflow.keras.datasets import mnist"
   ]
  },
  {
   "cell_type": "code",
   "execution_count": 2,
   "metadata": {},
   "outputs": [],
   "source": [
    "(x_train,y_train),(x_test,y_test) = mnist.load_data()\n",
    "x_train = x_train.astype('float32')/255.0\n",
    "x_test = x_test.astype('float32')/255.0"
   ]
  },
  {
   "cell_type": "code",
   "execution_count": 7,
   "metadata": {},
   "outputs": [
    {
     "name": "stdout",
     "output_type": "stream",
     "text": [
      "Model: \"sequential_1\"\n",
      "_________________________________________________________________\n",
      "Layer (type)                 Output Shape              Param #   \n",
      "=================================================================\n",
      "simple_rnn_2 (SimpleRNN)     (None, None, 256)         72960     \n",
      "_________________________________________________________________\n",
      "simple_rnn_3 (SimpleRNN)     (None, 256)               131328    \n",
      "_________________________________________________________________\n",
      "dense_1 (Dense)              (None, 10)                2570      \n",
      "=================================================================\n",
      "Total params: 206,858\n",
      "Trainable params: 206,858\n",
      "Non-trainable params: 0\n",
      "_________________________________________________________________\n"
     ]
    }
   ],
   "source": [
    "model = keras.Sequential()\n",
    "model.add(keras.Input(shape=(None,28)))\n",
    "model.add(layers.SimpleRNN(256,return_sequences=True,activation='tanh'))\n",
    "model.add(layers.SimpleRNN(256,activation='tanh'))\n",
    "model.add(layers.Dense(10))\n",
    "model.summary()"
   ]
  },
  {
   "cell_type": "code",
   "execution_count": 8,
   "metadata": {},
   "outputs": [],
   "source": [
    "model.compile(loss=keras.losses.SparseCategoricalCrossentropy(from_logits=True),\n",
    "             optimizer=keras.optimizers.Adam(lr=0.001),\n",
    "             metrics=['accuracy'])"
   ]
  },
  {
   "cell_type": "code",
   "execution_count": 9,
   "metadata": {},
   "outputs": [
    {
     "name": "stdout",
     "output_type": "stream",
     "text": [
      "Epoch 1/10\n",
      "938/938 [==============================] - 100s 105ms/step - loss: 0.4539 - accuracy: 0.8556\n",
      "Epoch 2/10\n",
      "938/938 [==============================] - 98s 104ms/step - loss: 0.1989 - accuracy: 0.9421\n",
      "Epoch 3/10\n",
      "938/938 [==============================] - 99s 105ms/step - loss: 0.1540 - accuracy: 0.9551\n",
      "Epoch 4/10\n",
      "938/938 [==============================] - 99s 106ms/step - loss: 0.1408 - accuracy: 0.9591\n",
      "Epoch 5/10\n",
      "938/938 [==============================] - 98s 105ms/step - loss: 0.1490 - accuracy: 0.9562\n",
      "Epoch 6/10\n",
      "938/938 [==============================] - 100s 106ms/step - loss: 0.1240 - accuracy: 0.9641\n",
      "Epoch 7/10\n",
      "938/938 [==============================] - 100s 107ms/step - loss: 0.1517 - accuracy: 0.9560\n",
      "Epoch 8/10\n",
      "938/938 [==============================] - 100s 106ms/step - loss: 0.1149 - accuracy: 0.9672\n",
      "Epoch 9/10\n",
      "938/938 [==============================] - 105s 112ms/step - loss: 0.1238 - accuracy: 0.9642\n",
      "Epoch 10/10\n",
      "938/938 [==============================] - 104s 111ms/step - loss: 0.1260 - accuracy: 0.9642\n",
      "157/157 [==============================] - 3s 19ms/step - loss: 0.1107 - accuracy: 0.9692\n"
     ]
    },
    {
     "data": {
      "text/plain": [
       "[0.11074502021074295, 0.9692000150680542]"
      ]
     },
     "execution_count": 9,
     "metadata": {},
     "output_type": "execute_result"
    }
   ],
   "source": [
    "model.fit(x_train,y_train,batch_size=64,epochs=10)\n",
    "model.evaluate(x_test,y_test,batch_size=64)"
   ]
  },
  {
   "cell_type": "code",
   "execution_count": 10,
   "metadata": {},
   "outputs": [
    {
     "name": "stdout",
     "output_type": "stream",
     "text": [
      "Model: \"sequential_2\"\n",
      "_________________________________________________________________\n",
      "Layer (type)                 Output Shape              Param #   \n",
      "=================================================================\n",
      "gru (GRU)                    (None, None, 256)         219648    \n",
      "_________________________________________________________________\n",
      "gru_1 (GRU)                  (None, 256)               394752    \n",
      "_________________________________________________________________\n",
      "dense_2 (Dense)              (None, 10)                2570      \n",
      "=================================================================\n",
      "Total params: 616,970\n",
      "Trainable params: 616,970\n",
      "Non-trainable params: 0\n",
      "_________________________________________________________________\n",
      "Epoch 1/10\n",
      "938/938 [==============================] - 18s 13ms/step - loss: 0.5997 - accuracy: 0.7910\n",
      "Epoch 2/10\n",
      "938/938 [==============================] - 12s 13ms/step - loss: 0.0738 - accuracy: 0.9777\n",
      "Epoch 3/10\n",
      "938/938 [==============================] - 12s 12ms/step - loss: 0.0485 - accuracy: 0.9847\n",
      "Epoch 4/10\n",
      "938/938 [==============================] - 12s 12ms/step - loss: 0.0356 - accuracy: 0.9889\n",
      "Epoch 5/10\n",
      "938/938 [==============================] - 12s 12ms/step - loss: 0.0299 - accuracy: 0.9905\n",
      "Epoch 6/10\n",
      "938/938 [==============================] - 12s 12ms/step - loss: 0.0233 - accuracy: 0.9924\n",
      "Epoch 7/10\n",
      "938/938 [==============================] - 12s 13ms/step - loss: 0.0164 - accuracy: 0.9946\n",
      "Epoch 8/10\n",
      "938/938 [==============================] - 14s 14ms/step - loss: 0.0188 - accuracy: 0.9940\n",
      "Epoch 9/10\n",
      "938/938 [==============================] - 14s 15ms/step - loss: 0.0153 - accuracy: 0.9946\n",
      "Epoch 10/10\n",
      "938/938 [==============================] - 13s 14ms/step - loss: 0.0146 - accuracy: 0.9955\n",
      "157/157 [==============================] - 2s 7ms/step - loss: 0.0310 - accuracy: 0.9915\n"
     ]
    },
    {
     "data": {
      "text/plain": [
       "[0.030991705134510994, 0.9915000200271606]"
      ]
     },
     "execution_count": 10,
     "metadata": {},
     "output_type": "execute_result"
    }
   ],
   "source": [
    "model = keras.Sequential()\n",
    "model.add(keras.Input(shape=(None,28)))\n",
    "model.add(layers.GRU(256,return_sequences=True,activation='tanh'))\n",
    "model.add(layers.GRU(256,activation='tanh'))\n",
    "model.add(layers.Dense(10))\n",
    "model.summary()\n",
    "\n",
    "model.compile(loss=keras.losses.SparseCategoricalCrossentropy(from_logits=True),\n",
    "             optimizer=keras.optimizers.Adam(lr=0.001),\n",
    "             metrics=['accuracy'])\n",
    "\n",
    "model.fit(x_train,y_train,batch_size=64,epochs=10)\n",
    "model.evaluate(x_test,y_test,batch_size=64)"
   ]
  },
  {
   "cell_type": "code",
   "execution_count": 11,
   "metadata": {},
   "outputs": [
    {
     "name": "stdout",
     "output_type": "stream",
     "text": [
      "Model: \"sequential_3\"\n",
      "_________________________________________________________________\n",
      "Layer (type)                 Output Shape              Param #   \n",
      "=================================================================\n",
      "lstm (LSTM)                  (None, None, 256)         291840    \n",
      "_________________________________________________________________\n",
      "lstm_1 (LSTM)                (None, 256)               525312    \n",
      "_________________________________________________________________\n",
      "dense_3 (Dense)              (None, 10)                2570      \n",
      "=================================================================\n",
      "Total params: 819,722\n",
      "Trainable params: 819,722\n",
      "Non-trainable params: 0\n",
      "_________________________________________________________________\n",
      "Epoch 1/10\n",
      "938/938 [==============================] - 18s 16ms/step - loss: 0.6123 - accuracy: 0.7918\n",
      "Epoch 2/10\n",
      "938/938 [==============================] - 15s 16ms/step - loss: 0.0898 - accuracy: 0.9721\n",
      "Epoch 3/10\n",
      "938/938 [==============================] - 16s 17ms/step - loss: 0.0585 - accuracy: 0.9815\n",
      "Epoch 4/10\n",
      "938/938 [==============================] - 15s 16ms/step - loss: 0.0436 - accuracy: 0.9864\n",
      "Epoch 5/10\n",
      "938/938 [==============================] - 15s 16ms/step - loss: 0.0371 - accuracy: 0.9886\n",
      "Epoch 6/10\n",
      "938/938 [==============================] - 15s 16ms/step - loss: 0.0309 - accuracy: 0.9904\n",
      "Epoch 7/10\n",
      "938/938 [==============================] - 14s 15ms/step - loss: 0.0234 - accuracy: 0.9927\n",
      "Epoch 8/10\n",
      "938/938 [==============================] - 14s 15ms/step - loss: 0.0213 - accuracy: 0.9932\n",
      "Epoch 9/10\n",
      "938/938 [==============================] - 14s 15ms/step - loss: 0.0200 - accuracy: 0.9933\n",
      "Epoch 10/10\n",
      "938/938 [==============================] - 14s 15ms/step - loss: 0.0152 - accuracy: 0.9953\n",
      "157/157 [==============================] - 2s 7ms/step - loss: 0.0410 - accuracy: 0.9874\n"
     ]
    },
    {
     "data": {
      "text/plain": [
       "[0.04104914516210556, 0.9873999953269958]"
      ]
     },
     "execution_count": 11,
     "metadata": {},
     "output_type": "execute_result"
    }
   ],
   "source": [
    "model = keras.Sequential()\n",
    "model.add(keras.Input(shape=(None,28)))\n",
    "model.add(layers.LSTM(256,return_sequences=True,activation='tanh'))\n",
    "model.add(layers.LSTM(256,activation='tanh'))\n",
    "model.add(layers.Dense(10))\n",
    "model.summary()\n",
    "\n",
    "model.compile(loss=keras.losses.SparseCategoricalCrossentropy(from_logits=True),\n",
    "             optimizer=keras.optimizers.Adam(lr=0.001),\n",
    "             metrics=['accuracy'])\n",
    "\n",
    "model.fit(x_train,y_train,batch_size=64,epochs=10)\n",
    "model.evaluate(x_test,y_test,batch_size=64)"
   ]
  },
  {
   "cell_type": "code",
   "execution_count": 12,
   "metadata": {},
   "outputs": [
    {
     "name": "stdout",
     "output_type": "stream",
     "text": [
      "Model: \"sequential_4\"\n",
      "_________________________________________________________________\n",
      "Layer (type)                 Output Shape              Param #   \n",
      "=================================================================\n",
      "bidirectional (Bidirectional (None, None, 512)         583680    \n",
      "_________________________________________________________________\n",
      "bidirectional_1 (Bidirection (None, 512)               1574912   \n",
      "_________________________________________________________________\n",
      "dense_4 (Dense)              (None, 10)                5130      \n",
      "=================================================================\n",
      "Total params: 2,163,722\n",
      "Trainable params: 2,163,722\n",
      "Non-trainable params: 0\n",
      "_________________________________________________________________\n",
      "Epoch 1/10\n",
      "938/938 [==============================] - 34s 30ms/step - loss: 0.5409 - accuracy: 0.8141\n",
      "Epoch 2/10\n",
      "938/938 [==============================] - 29s 30ms/step - loss: 0.0789 - accuracy: 0.9755\n",
      "Epoch 3/10\n",
      "938/938 [==============================] - 29s 31ms/step - loss: 0.0533 - accuracy: 0.9841\n",
      "Epoch 4/10\n",
      "938/938 [==============================] - 29s 31ms/step - loss: 0.0395 - accuracy: 0.9877\n",
      "Epoch 5/10\n",
      "938/938 [==============================] - 29s 31ms/step - loss: 0.0321 - accuracy: 0.9900\n",
      "Epoch 6/10\n",
      "938/938 [==============================] - 29s 31ms/step - loss: 0.0272 - accuracy: 0.9916\n",
      "Epoch 7/10\n",
      "938/938 [==============================] - 29s 31ms/step - loss: 0.0230 - accuracy: 0.9926\n",
      "Epoch 8/10\n",
      "938/938 [==============================] - 29s 31ms/step - loss: 0.0183 - accuracy: 0.9944\n",
      "Epoch 9/10\n",
      "938/938 [==============================] - 29s 31ms/step - loss: 0.0183 - accuracy: 0.99400s - los\n",
      "Epoch 10/10\n",
      "938/938 [==============================] - 28s 30ms/step - loss: 0.0132 - accuracy: 0.9958\n",
      "157/157 [==============================] - 3s 14ms/step - loss: 0.0401 - accuracy: 0.9888\n"
     ]
    },
    {
     "data": {
      "text/plain": [
       "[0.04008980467915535, 0.9887999892234802]"
      ]
     },
     "execution_count": 12,
     "metadata": {},
     "output_type": "execute_result"
    }
   ],
   "source": [
    "model = keras.Sequential()\n",
    "model.add(keras.Input(shape=(None,28)))\n",
    "model.add(layers.Bidirectional(\n",
    "    layers.LSTM(256,return_sequences=True,activation='tanh')))\n",
    "model.add(layers.Bidirectional(\n",
    "    layers.LSTM(256,activation='tanh')))\n",
    "model.add(layers.Dense(10))\n",
    "model.summary()\n",
    "\n",
    "model.compile(loss=keras.losses.SparseCategoricalCrossentropy(from_logits=True),\n",
    "             optimizer=keras.optimizers.Adam(lr=0.001),\n",
    "             metrics=['accuracy'])\n",
    "\n",
    "model.fit(x_train,y_train,batch_size=64,epochs=10)\n",
    "model.evaluate(x_test,y_test,batch_size=64)"
   ]
  }
 ],
 "metadata": {
  "kernelspec": {
   "display_name": "Python 3",
   "language": "python",
   "name": "python3"
  },
  "language_info": {
   "codemirror_mode": {
    "name": "ipython",
    "version": 3
   },
   "file_extension": ".py",
   "mimetype": "text/x-python",
   "name": "python",
   "nbconvert_exporter": "python",
   "pygments_lexer": "ipython3",
   "version": "3.8.5"
  }
 },
 "nbformat": 4,
 "nbformat_minor": 4
}
