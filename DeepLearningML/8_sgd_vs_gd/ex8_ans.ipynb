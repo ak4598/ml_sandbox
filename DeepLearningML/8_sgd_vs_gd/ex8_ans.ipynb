{
 "cells": [
  {
   "cell_type": "code",
   "execution_count": 1,
   "id": "b1bc594c",
   "metadata": {},
   "outputs": [],
   "source": [
    "import pandas as pd\n",
    "import numpy as np\n",
    "import matplotlib.pyplot as plt\n",
    "%matplotlib inline"
   ]
  },
  {
   "cell_type": "code",
   "execution_count": 2,
   "id": "f669974f",
   "metadata": {},
   "outputs": [],
   "source": [
    "df = pd.read_csv('homeprices_banglore.csv')"
   ]
  },
  {
   "cell_type": "code",
   "execution_count": 3,
   "id": "29822f95",
   "metadata": {},
   "outputs": [],
   "source": [
    "from sklearn.preprocessing import MinMaxScaler\n",
    "sx = MinMaxScaler()\n",
    "sy = MinMaxScaler()"
   ]
  },
  {
   "cell_type": "code",
   "execution_count": 4,
   "id": "962004b1",
   "metadata": {},
   "outputs": [
    {
     "data": {
      "text/plain": [
       "(20, 2)"
      ]
     },
     "execution_count": 4,
     "metadata": {},
     "output_type": "execute_result"
    }
   ],
   "source": [
    "scaled_x = sx.fit_transform(df.drop('price',axis='columns'))\n",
    "scaled_x.shape"
   ]
  },
  {
   "cell_type": "code",
   "execution_count": 5,
   "id": "751b5b5d",
   "metadata": {},
   "outputs": [],
   "source": [
    "scaled_y = sy.fit_transform(df[['price']])"
   ]
  },
  {
   "cell_type": "code",
   "execution_count": 6,
   "id": "d705231b",
   "metadata": {},
   "outputs": [
    {
     "data": {
      "text/plain": [
       "array([17,  2, 10, 15, 13, 14, 12,  8,  3,  0,  9,  4, 19, 16,  6,  7, 11,\n",
       "        1,  5, 18])"
      ]
     },
     "execution_count": 6,
     "metadata": {},
     "output_type": "execute_result"
    }
   ],
   "source": [
    "np.random.permutation(20)"
   ]
  },
  {
   "cell_type": "code",
   "execution_count": 7,
   "id": "aad24072",
   "metadata": {},
   "outputs": [],
   "source": [
    "import random\n",
    "\n",
    "def mini_batch_gradient_descent(x, y_true, epochs, batch_size=5, learning_rate=0.01):\n",
    "    num_of_ft = x.shape[1]\n",
    "    w = np.ones(shape=num_of_ft)\n",
    "    b = 0\n",
    "    total_samples = x.shape[0]\n",
    "    \n",
    "    if batch_size > total_samples:\n",
    "        batch_size = total_samples\n",
    "    \n",
    "    \n",
    "    #just for graph\n",
    "    cost_list = []\n",
    "    epoch_list = []\n",
    "    \n",
    "    for i in range(epochs):\n",
    "        random_index = np.random.permutation(total_samples)\n",
    "        batch_x = x[random_index]\n",
    "        batch_y = y_true[random_index]\n",
    "        \n",
    "        for j in range(0,total_samples,batch_size): #(0-20,jump 5 everytime)\n",
    "            x_tmp = batch_x[j:j+batch_size]\n",
    "            y_tmp = batch_y[j:j+batch_size]\n",
    "        \n",
    "            y_pred = np.dot(w, x_tmp.T) + b\n",
    "        \n",
    "            w_grad = -(2/len(x_tmp))*(np.dot(x_tmp.T,(y_tmp-y_pred)))\n",
    "            b_grad = -(2/len(y_tmp))*np.sum(y_tmp-y_pred)\n",
    "        \n",
    "            w = w - learning_rate * w_grad\n",
    "            b = b - learning_rate * b_grad\n",
    "\n",
    "            cost = np.mean(np.square(y_tmp-y_pred))\n",
    "        \n",
    "        if (i+1)%10==0:\n",
    "            cost_list.append(cost)\n",
    "            epoch_list.append(i+1)\n",
    "    return w, b, cost, cost_list, epoch_list"
   ]
  },
  {
   "cell_type": "code",
   "execution_count": 8,
   "id": "cef1cb30",
   "metadata": {},
   "outputs": [
    {
     "data": {
      "text/plain": [
       "(array([0.71013195, 0.67805224]), -0.23327018584458645, 0.0035539662230131145)"
      ]
     },
     "execution_count": 8,
     "metadata": {},
     "output_type": "execute_result"
    }
   ],
   "source": [
    "w, b, cost, cost_list, epoch_list = mini_batch_gradient_descent(scaled_x, scaled_y.reshape(scaled_y.shape[0],), 120)\n",
    "w, b, cost"
   ]
  },
  {
   "cell_type": "code",
   "execution_count": 9,
   "id": "36764d7c",
   "metadata": {},
   "outputs": [
    {
     "data": {
      "text/plain": [
       "[<matplotlib.lines.Line2D at 0x7f908b034240>]"
      ]
     },
     "execution_count": 9,
     "metadata": {},
     "output_type": "execute_result"
    },
    {
     "data": {
      "image/png": "[encoded data removed]",
      "text/plain": [
       "<Figure size 432x288 with 1 Axes>"
      ]
     },
     "metadata": {
      "needs_background": "light"
     },
     "output_type": "display_data"
    }
   ],
   "source": [
    "plt.xlabel('epoch')\n",
    "plt.ylabel('cost')\n",
    "plt.plot(epoch_list,cost_list)"
   ]
  }
 ],
 "metadata": {
  "kernelspec": {
   "display_name": "Python 3",
   "language": "python",
   "name": "python3"
  },
  "language_info": {
   "codemirror_mode": {
    "name": "ipython",
    "version": 3
   },
   "file_extension": ".py",
   "mimetype": "text/x-python",
   "name": "python",
   "nbconvert_exporter": "python",
   "pygments_lexer": "ipython3",
   "version": "3.6.13"
  }
 },
 "nbformat": 4,
 "nbformat_minor": 5
}
