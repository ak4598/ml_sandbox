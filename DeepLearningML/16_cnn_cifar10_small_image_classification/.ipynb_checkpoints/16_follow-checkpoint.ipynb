{
 "cells": [
  {
   "cell_type": "code",
   "execution_count": 21,
   "metadata": {},
   "outputs": [],
   "source": [
    "import tensorflow as tf\n",
    "from tensorflow import keras\n",
    "import matplotlib.pyplot as plt\n",
    "import numpy as np\n",
    "from numba import cuda\n",
    "from sklearn.metrics import classification_report"
   ]
  },
  {
   "cell_type": "code",
   "execution_count": 23,
   "metadata": {},
   "outputs": [],
   "source": [
    "# use only when needed\n",
    "# cuda.select_device(0)\n",
    "# cuda.close()"
   ]
  },
  {
   "cell_type": "code",
   "execution_count": 3,
   "metadata": {},
   "outputs": [],
   "source": [
    "(x_train,y_train),(x_test,y_test) = keras.datasets.cifar10.load_data()"
   ]
  },
  {
   "cell_type": "code",
   "execution_count": 16,
   "metadata": {},
   "outputs": [],
   "source": [
    "    classes = ['airplane','automobile','bird','cat','deer','dog','frog','horse','ship','truck']"
   ]
  },
  {
   "cell_type": "code",
   "execution_count": 17,
   "metadata": {},
   "outputs": [],
   "source": [
    "def plot_sample(x,y,index):\n",
    "    plt.figure(figsize=(10,1))\n",
    "    plt.imshow(x[index])\n",
    "    plt.xlabel(classes[y[index][0]])"
   ]
  },
  {
   "cell_type": "code",
   "execution_count": 18,
   "metadata": {},
   "outputs": [
    {
     "data": {
      "image/png": "[encoded data removed]",
      "text/plain": [
       "<Figure size 720x72 with 1 Axes>"
      ]
     },
     "metadata": {
      "needs_background": "light"
     },
     "output_type": "display_data"
    }
   ],
   "source": [
    "plot_sample(x_train,y_train,0)"
   ]
  },
  {
   "cell_type": "code",
   "execution_count": 6,
   "metadata": {},
   "outputs": [],
   "source": [
    "x_train = x_train/255\n",
    "x_test = x_test/255"
   ]
  },
  {
   "cell_type": "code",
   "execution_count": 7,
   "metadata": {},
   "outputs": [],
   "source": [
    "# model = keras.Sequential([\n",
    "#         keras.layers.Flatten(input_shape=(32,32,3)),\n",
    "#         keras.layers.Dense(3000,activation='relu'),\n",
    "#         keras.layers.Dense(1000,activation='relu'),\n",
    "#         keras.layers.Dense(10,activation='sigmoid'),\n",
    "#         ])\n",
    "\n",
    "# model.compile(optimizer='SGD',\n",
    "#          loss='sparse_categorical_crossentropy',\n",
    "#          metrics=['accuracy'])\n",
    "\n",
    "# with tf.device('/GPU:0'):\n",
    "#     model.fit(x_train, y_train, epochs=5)"
   ]
  },
  {
   "cell_type": "code",
   "execution_count": 8,
   "metadata": {},
   "outputs": [],
   "source": [
    "cnn = keras.Sequential([\n",
    "        #cnn\n",
    "        keras.layers.Conv2D(filters=32,kernel_size=(3,3),activation='relu',input_shape=(32,32,3)),\n",
    "        keras.layers.MaxPooling2D((2,2)),\n",
    "    \n",
    "        keras.layers.Conv2D(filters=64,kernel_size=(3,3),activation='relu'),\n",
    "        keras.layers.MaxPooling2D((2,2)),\n",
    "    \n",
    "        #dense\n",
    "        keras.layers.Flatten(),\n",
    "        keras.layers.Dense(64,activation='relu'),\n",
    "        keras.layers.Dense(10,activation='softmax') #normalize output prob\n",
    "        ])\n"
   ]
  },
  {
   "cell_type": "code",
   "execution_count": 9,
   "metadata": {},
   "outputs": [],
   "source": [
    "cnn.compile(optimizer='adam',\n",
    "         loss='sparse_categorical_crossentropy',\n",
    "         metrics=['accuracy'])"
   ]
  },
  {
   "cell_type": "code",
   "execution_count": 10,
   "metadata": {},
   "outputs": [
    {
     "name": "stdout",
     "output_type": "stream",
     "text": [
      "Epoch 1/10\n",
      "1563/1563 [==============================] - 8s 5ms/step - loss: 1.7322 - accuracy: 0.3681\n",
      "Epoch 2/10\n",
      "1563/1563 [==============================] - 7s 5ms/step - loss: 1.1668 - accuracy: 0.5908\n",
      "Epoch 3/10\n",
      "1563/1563 [==============================] - 7s 5ms/step - loss: 1.0145 - accuracy: 0.6444\n",
      "Epoch 4/10\n",
      "1563/1563 [==============================] - 7s 5ms/step - loss: 0.9405 - accuracy: 0.6756\n",
      "Epoch 5/10\n",
      "1563/1563 [==============================] - 7s 5ms/step - loss: 0.8732 - accuracy: 0.6964\n",
      "Epoch 6/10\n",
      "1563/1563 [==============================] - 7s 5ms/step - loss: 0.8321 - accuracy: 0.7115\n",
      "Epoch 7/10\n",
      "1563/1563 [==============================] - 7s 5ms/step - loss: 0.7932 - accuracy: 0.7274\n",
      "Epoch 8/10\n",
      "1563/1563 [==============================] - 7s 5ms/step - loss: 0.7500 - accuracy: 0.7395\n",
      "Epoch 9/10\n",
      "1563/1563 [==============================] - 8s 5ms/step - loss: 0.7101 - accuracy: 0.7509\n",
      "Epoch 10/10\n",
      "1563/1563 [==============================] - 8s 5ms/step - loss: 0.6814 - accuracy: 0.7674\n"
     ]
    }
   ],
   "source": [
    "with tf.device('/GPU:0'):\n",
    "    cnn.fit(x_train, y_train, epochs=10)"
   ]
  },
  {
   "cell_type": "code",
   "execution_count": 11,
   "metadata": {
    "scrolled": true
   },
   "outputs": [
    {
     "data": {
      "image/png": "[encoded data removed]",
      "text/plain": [
       "<Figure size 720x72 with 1 Axes>"
      ]
     },
     "metadata": {
      "needs_background": "light"
     },
     "output_type": "display_data"
    }
   ],
   "source": [
    "plot_sample(x_test,y_test,1)"
   ]
  },
  {
   "cell_type": "code",
   "execution_count": 12,
   "metadata": {},
   "outputs": [
    {
     "data": {
      "text/plain": [
       "array([[2.4369256e-04, 1.6823633e-06, 1.0592667e-03, 8.3352798e-01,\n",
       "        1.2844874e-03, 1.5776278e-01, 4.9747005e-03, 9.9170684e-05,\n",
       "        1.0141393e-03, 3.2200274e-05],\n",
       "       [5.4096594e-03, 1.4212203e-01, 2.7951502e-04, 7.7654313e-06,\n",
       "        2.8287013e-05, 8.4088828e-07, 8.4026851e-07, 1.7903363e-06,\n",
       "        8.4361696e-01, 8.5323239e-03],\n",
       "       [2.0462085e-01, 5.6962663e-01, 5.4657459e-02, 1.7043523e-02,\n",
       "        4.7450098e-03, 1.0585781e-03, 7.3292013e-04, 3.3481147e-02,\n",
       "        8.0405548e-02, 3.3628281e-02],\n",
       "       [3.5231313e-01, 1.6960558e-02, 4.6312654e-01, 1.8154630e-03,\n",
       "        5.3838760e-02, 6.7587498e-05, 2.9541267e-04, 6.0045125e-04,\n",
       "        1.1088396e-01, 9.8147153e-05],\n",
       "       [3.3413880e-06, 9.0615904e-05, 1.2187276e-02, 6.4987168e-02,\n",
       "        3.5846654e-01, 2.6452721e-03, 5.6150097e-01, 7.3211208e-06,\n",
       "        8.7485700e-05, 2.4079616e-05]], dtype=float32)"
      ]
     },
     "execution_count": 12,
     "metadata": {},
     "output_type": "execute_result"
    }
   ],
   "source": [
    "y_pred = cnn.predict(x_test)\n",
    "y_pred[:5]"
   ]
  },
  {
   "cell_type": "code",
   "execution_count": 13,
   "metadata": {},
   "outputs": [
    {
     "data": {
      "text/plain": [
       "[3, 8, 1, 2, 6]"
      ]
     },
     "execution_count": 13,
     "metadata": {},
     "output_type": "execute_result"
    }
   ],
   "source": [
    "y_classes = [np.argmax(i) for i in y_pred]\n",
    "y_classes[:5]"
   ]
  },
  {
   "cell_type": "code",
   "execution_count": 15,
   "metadata": {},
   "outputs": [
    {
     "data": {
      "text/plain": [
       "array([3, 8, 8, 0, 6], dtype=uint8)"
      ]
     },
     "execution_count": 15,
     "metadata": {},
     "output_type": "execute_result"
    }
   ],
   "source": [
    "y_test[:5].reshape(-1)"
   ]
  },
  {
   "cell_type": "code",
   "execution_count": 20,
   "metadata": {},
   "outputs": [
    {
     "data": {
      "text/plain": [
       "'cat'"
      ]
     },
     "execution_count": 20,
     "metadata": {},
     "output_type": "execute_result"
    }
   ],
   "source": [
    "classes[y_classes[0]]"
   ]
  },
  {
   "cell_type": "code",
   "execution_count": 22,
   "metadata": {},
   "outputs": [
    {
     "name": "stdout",
     "output_type": "stream",
     "text": [
      "Classification Report: \n",
      "               precision    recall  f1-score   support\n",
      "\n",
      "           0       0.78      0.68      0.73      1000\n",
      "           1       0.81      0.82      0.82      1000\n",
      "           2       0.55      0.64      0.59      1000\n",
      "           3       0.53      0.46      0.49      1000\n",
      "           4       0.63      0.62      0.63      1000\n",
      "           5       0.62      0.63      0.62      1000\n",
      "           6       0.74      0.78      0.76      1000\n",
      "           7       0.67      0.81      0.73      1000\n",
      "           8       0.87      0.69      0.77      1000\n",
      "           9       0.76      0.80      0.78      1000\n",
      "\n",
      "    accuracy                           0.69     10000\n",
      "   macro avg       0.70      0.69      0.69     10000\n",
      "weighted avg       0.70      0.69      0.69     10000\n",
      "\n"
     ]
    }
   ],
   "source": [
    "print('Classification Report: \\n', classification_report(y_test,y_classes))"
   ]
  }
 ],
 "metadata": {
  "kernelspec": {
   "display_name": "Python 3",
   "language": "python",
   "name": "python3"
  },
  "language_info": {
   "codemirror_mode": {
    "name": "ipython",
    "version": 3
   },
   "file_extension": ".py",
   "mimetype": "text/x-python",
   "name": "python",
   "nbconvert_exporter": "python",
   "pygments_lexer": "ipython3",
   "version": "3.8.5"
  }
 },
 "nbformat": 4,
 "nbformat_minor": 4
}
