{
 "cells": [
  {
   "cell_type": "code",
   "execution_count": 1,
   "metadata": {},
   "outputs": [],
   "source": [
    "import numpy as np\n",
    "from tensorflow import keras\n",
    "from tensorflow.keras.preprocessing.text import one_hot\n",
    "from tensorflow.keras.preprocessing.sequence import pad_sequences"
   ]
  },
  {
   "cell_type": "code",
   "execution_count": 2,
   "metadata": {},
   "outputs": [],
   "source": [
    "reviews = ['nice food',\n",
    "        'amazing restaurant',\n",
    "        'too good',\n",
    "        'just loved it!',\n",
    "        'will go again',\n",
    "        'horrible food',\n",
    "        'never go there',\n",
    "        'poor service',\n",
    "        'poor quality',\n",
    "        'needs improvement']\n",
    "\n",
    "sentiment = np.array([1,1,1,1,1,0,0,0,0,0])"
   ]
  },
  {
   "cell_type": "code",
   "execution_count": 3,
   "metadata": {},
   "outputs": [
    {
     "data": {
      "text/plain": [
       "[24, 1]"
      ]
     },
     "execution_count": 3,
     "metadata": {},
     "output_type": "execute_result"
    }
   ],
   "source": [
    "one_hot('amazing restaurant',30) #return UNIQUE int for each word in the range provided"
   ]
  },
  {
   "cell_type": "code",
   "execution_count": 4,
   "metadata": {},
   "outputs": [
    {
     "data": {
      "text/plain": [
       "[[29, 23],\n",
       " [24, 1],\n",
       " [18, 8],\n",
       " [20, 22, 11],\n",
       " [6, 6, 20],\n",
       " [4, 23],\n",
       " [14, 6, 6],\n",
       " [9, 18],\n",
       " [9, 16],\n",
       " [28, 10]]"
      ]
     },
     "execution_count": 4,
     "metadata": {},
     "output_type": "execute_result"
    }
   ],
   "source": [
    "vocab_size = 30\n",
    "encoded_reviews = [one_hot(d, vocab_size) for d in reviews]\n",
    "encoded_reviews"
   ]
  },
  {
   "cell_type": "code",
   "execution_count": 5,
   "metadata": {},
   "outputs": [
    {
     "data": {
      "text/plain": [
       "array([[29, 23,  0],\n",
       "       [24,  1,  0],\n",
       "       [18,  8,  0],\n",
       "       [20, 22, 11],\n",
       "       [ 6,  6, 20],\n",
       "       [ 4, 23,  0],\n",
       "       [14,  6,  6],\n",
       "       [ 9, 18,  0],\n",
       "       [ 9, 16,  0],\n",
       "       [28, 10,  0]])"
      ]
     },
     "execution_count": 5,
     "metadata": {},
     "output_type": "execute_result"
    }
   ],
   "source": [
    "max_length = 3\n",
    "padded_reviews = pad_sequences(encoded_reviews,maxlen=max_length,padding='post')\n",
    "padded_reviews"
   ]
  },
  {
   "cell_type": "code",
   "execution_count": 6,
   "metadata": {},
   "outputs": [],
   "source": [
    "embeded_vector_size = 4 #no. of features/weights of a single word\n",
    "\n",
    "model = keras.Sequential()\n",
    "model.add(keras.layers.Embedding(vocab_size,embeded_vector_size,input_length=max_length,name='embedding'))\n",
    "model.add(keras.layers.Flatten())\n",
    "model.add(keras.layers.Dense(1,activation='sigmoid'))"
   ]
  },
  {
   "cell_type": "code",
   "execution_count": 7,
   "metadata": {},
   "outputs": [],
   "source": [
    "x = padded_reviews\n",
    "y = sentiment"
   ]
  },
  {
   "cell_type": "code",
   "execution_count": 8,
   "metadata": {},
   "outputs": [
    {
     "name": "stdout",
     "output_type": "stream",
     "text": [
      "Model: \"sequential\"\n",
      "_________________________________________________________________\n",
      "Layer (type)                 Output Shape              Param #   \n",
      "=================================================================\n",
      "embedding (Embedding)        (None, 3, 4)              120       \n",
      "_________________________________________________________________\n",
      "flatten (Flatten)            (None, 12)                0         \n",
      "_________________________________________________________________\n",
      "dense (Dense)                (None, 1)                 13        \n",
      "=================================================================\n",
      "Total params: 133\n",
      "Trainable params: 133\n",
      "Non-trainable params: 0\n",
      "_________________________________________________________________\n"
     ]
    }
   ],
   "source": [
    "model.compile(optimizer='adam',loss='binary_crossentropy',metrics=['accuracy'])\n",
    "model.summary()"
   ]
  },
  {
   "cell_type": "code",
   "execution_count": 9,
   "metadata": {},
   "outputs": [
    {
     "name": "stdout",
     "output_type": "stream",
     "text": [
      "Epoch 1/50\n",
      "1/1 - 1s - loss: 0.6963 - accuracy: 0.3000\n",
      "Epoch 2/50\n",
      "1/1 - 0s - loss: 0.6956 - accuracy: 0.3000\n",
      "Epoch 3/50\n",
      "1/1 - 0s - loss: 0.6948 - accuracy: 0.3000\n",
      "Epoch 4/50\n",
      "1/1 - 0s - loss: 0.6940 - accuracy: 0.3000\n",
      "Epoch 5/50\n",
      "1/1 - 0s - loss: 0.6932 - accuracy: 0.4000\n",
      "Epoch 6/50\n",
      "1/1 - 0s - loss: 0.6925 - accuracy: 0.4000\n",
      "Epoch 7/50\n",
      "1/1 - 0s - loss: 0.6917 - accuracy: 0.5000\n",
      "Epoch 8/50\n",
      "1/1 - 0s - loss: 0.6909 - accuracy: 0.5000\n",
      "Epoch 9/50\n",
      "1/1 - 0s - loss: 0.6902 - accuracy: 0.6000\n",
      "Epoch 10/50\n",
      "1/1 - 0s - loss: 0.6894 - accuracy: 0.6000\n",
      "Epoch 11/50\n",
      "1/1 - 0s - loss: 0.6887 - accuracy: 0.6000\n",
      "Epoch 12/50\n",
      "1/1 - 0s - loss: 0.6879 - accuracy: 0.6000\n",
      "Epoch 13/50\n",
      "1/1 - 0s - loss: 0.6871 - accuracy: 0.7000\n",
      "Epoch 14/50\n",
      "1/1 - 0s - loss: 0.6864 - accuracy: 0.7000\n",
      "Epoch 15/50\n",
      "1/1 - 0s - loss: 0.6856 - accuracy: 0.7000\n",
      "Epoch 16/50\n",
      "1/1 - 0s - loss: 0.6849 - accuracy: 0.7000\n",
      "Epoch 17/50\n",
      "1/1 - 0s - loss: 0.6841 - accuracy: 0.7000\n",
      "Epoch 18/50\n",
      "1/1 - 0s - loss: 0.6833 - accuracy: 0.8000\n",
      "Epoch 19/50\n",
      "1/1 - 0s - loss: 0.6825 - accuracy: 0.9000\n",
      "Epoch 20/50\n",
      "1/1 - 0s - loss: 0.6818 - accuracy: 0.9000\n",
      "Epoch 21/50\n",
      "1/1 - 0s - loss: 0.6810 - accuracy: 0.9000\n",
      "Epoch 22/50\n",
      "1/1 - 0s - loss: 0.6802 - accuracy: 0.9000\n",
      "Epoch 23/50\n",
      "1/1 - 0s - loss: 0.6793 - accuracy: 0.9000\n",
      "Epoch 24/50\n",
      "1/1 - 0s - loss: 0.6785 - accuracy: 0.9000\n",
      "Epoch 25/50\n",
      "1/1 - 0s - loss: 0.6777 - accuracy: 0.9000\n",
      "Epoch 26/50\n",
      "1/1 - 0s - loss: 0.6768 - accuracy: 0.9000\n",
      "Epoch 27/50\n",
      "1/1 - 0s - loss: 0.6760 - accuracy: 0.9000\n",
      "Epoch 28/50\n",
      "1/1 - 0s - loss: 0.6751 - accuracy: 0.9000\n",
      "Epoch 29/50\n",
      "1/1 - 0s - loss: 0.6743 - accuracy: 0.9000\n",
      "Epoch 30/50\n",
      "1/1 - 0s - loss: 0.6734 - accuracy: 0.9000\n",
      "Epoch 31/50\n",
      "1/1 - 0s - loss: 0.6725 - accuracy: 0.9000\n",
      "Epoch 32/50\n",
      "1/1 - 0s - loss: 0.6716 - accuracy: 0.9000\n",
      "Epoch 33/50\n",
      "1/1 - 0s - loss: 0.6707 - accuracy: 0.9000\n",
      "Epoch 34/50\n",
      "1/1 - 0s - loss: 0.6698 - accuracy: 0.9000\n",
      "Epoch 35/50\n",
      "1/1 - 0s - loss: 0.6689 - accuracy: 1.0000\n",
      "Epoch 36/50\n",
      "1/1 - 0s - loss: 0.6679 - accuracy: 1.0000\n",
      "Epoch 37/50\n",
      "1/1 - 0s - loss: 0.6670 - accuracy: 1.0000\n",
      "Epoch 38/50\n",
      "1/1 - 0s - loss: 0.6660 - accuracy: 1.0000\n",
      "Epoch 39/50\n",
      "1/1 - 0s - loss: 0.6651 - accuracy: 1.0000\n",
      "Epoch 40/50\n",
      "1/1 - 0s - loss: 0.6641 - accuracy: 1.0000\n",
      "Epoch 41/50\n",
      "1/1 - 0s - loss: 0.6631 - accuracy: 1.0000\n",
      "Epoch 42/50\n",
      "1/1 - 0s - loss: 0.6621 - accuracy: 1.0000\n",
      "Epoch 43/50\n",
      "1/1 - 0s - loss: 0.6611 - accuracy: 1.0000\n",
      "Epoch 44/50\n",
      "1/1 - 0s - loss: 0.6601 - accuracy: 1.0000\n",
      "Epoch 45/50\n",
      "1/1 - 0s - loss: 0.6590 - accuracy: 1.0000\n",
      "Epoch 46/50\n",
      "1/1 - 0s - loss: 0.6580 - accuracy: 1.0000\n",
      "Epoch 47/50\n",
      "1/1 - 0s - loss: 0.6569 - accuracy: 1.0000\n",
      "Epoch 48/50\n",
      "1/1 - 0s - loss: 0.6558 - accuracy: 1.0000\n",
      "Epoch 49/50\n",
      "1/1 - 0s - loss: 0.6548 - accuracy: 1.0000\n",
      "Epoch 50/50\n",
      "1/1 - 0s - loss: 0.6537 - accuracy: 1.0000\n"
     ]
    },
    {
     "data": {
      "text/plain": [
       "<tensorflow.python.keras.callbacks.History at 0x18da0237580>"
      ]
     },
     "execution_count": 9,
     "metadata": {},
     "output_type": "execute_result"
    }
   ],
   "source": [
    "model.fit(x,y,epochs=50,verbose=2) #verbose just use to control display"
   ]
  },
  {
   "cell_type": "code",
   "execution_count": 10,
   "metadata": {},
   "outputs": [
    {
     "name": "stdout",
     "output_type": "stream",
     "text": [
      "1/1 [==============================] - 0s 109ms/step - loss: 0.6526 - accuracy: 1.0000\n"
     ]
    },
    {
     "data": {
      "text/plain": [
       "[0.6525763273239136, 1.0]"
      ]
     },
     "execution_count": 10,
     "metadata": {},
     "output_type": "execute_result"
    }
   ],
   "source": [
    "model.evaluate(x,y)"
   ]
  },
  {
   "cell_type": "code",
   "execution_count": 11,
   "metadata": {},
   "outputs": [
    {
     "data": {
      "text/plain": [
       "array([[ 8.7234497e-02,  1.9657228e-02,  3.0412266e-02,  9.9231310e-02],\n",
       "       [-9.8056264e-02, -9.8922728e-03,  4.3531906e-02,  9.9695502e-03],\n",
       "       [ 1.9075643e-02, -7.9663768e-03,  2.8835092e-02, -4.5172323e-02],\n",
       "       [-2.6540041e-02, -3.1085564e-02, -1.1335529e-02,  4.1585628e-02],\n",
       "       [ 4.7713615e-02, -8.7312600e-03, -9.9595055e-02,  3.2745399e-02],\n",
       "       [-2.4616873e-02,  3.8121168e-02, -2.0763446e-02, -3.7323311e-04],\n",
       "       [ 4.8100825e-02,  3.2865457e-02,  9.6880600e-02, -1.0563501e-02],\n",
       "       [ 3.9637122e-02,  8.1351772e-03, -4.5980979e-02,  1.6229775e-02],\n",
       "       [-3.1740135e-03, -8.6262137e-02,  1.8181495e-02,  9.7642332e-02],\n",
       "       [ 8.7391369e-02, -5.5641998e-02, -7.2022812e-03,  8.9069987e-03],\n",
       "       [ 7.5683899e-02,  5.8969043e-02, -4.5979012e-02, -3.5830487e-02],\n",
       "       [-5.7851806e-02, -5.0243124e-02, -2.4915883e-02, -7.2731845e-02],\n",
       "       [ 4.4425577e-04,  4.7789764e-02, -4.8449840e-02,  4.7400344e-02],\n",
       "       [-2.5510287e-02, -2.0737529e-02, -4.9043447e-05,  5.3032525e-03],\n",
       "       [ 4.9373284e-02, -4.1646253e-02, -5.9473503e-02,  8.6131088e-02],\n",
       "       [ 9.0893991e-03,  1.5017178e-02, -3.5749935e-02, -3.9166130e-02],\n",
       "       [ 1.8276745e-02,  4.5375228e-02, -8.4300794e-02, -8.6140044e-02],\n",
       "       [ 3.1091679e-02, -3.3195734e-02,  1.8815283e-02, -6.7044608e-03],\n",
       "       [ 2.1496100e-02,  1.0030415e-01, -8.4511004e-03, -2.5012420e-02],\n",
       "       [-3.3897817e-02, -3.8609661e-02, -1.5548836e-02, -1.1140071e-02],\n",
       "       [-6.7211695e-02, -5.7793599e-02,  1.5828028e-02, -9.1337018e-02],\n",
       "       [-3.4630798e-02,  2.4700772e-02, -1.1049710e-02,  1.0244705e-02],\n",
       "       [-1.9246705e-02, -4.8383899e-02,  3.8500797e-02,  4.8193891e-02],\n",
       "       [-3.0567879e-02, -1.8481383e-02,  4.3838181e-02, -1.3490464e-03],\n",
       "       [-3.7309226e-02,  3.4878548e-02,  6.0548997e-03, -2.5968833e-02],\n",
       "       [ 1.9500781e-02, -4.6510305e-02,  4.7844734e-02,  3.2900240e-02],\n",
       "       [-2.7121235e-02,  1.2310170e-02, -1.9368852e-02, -2.5214665e-03],\n",
       "       [ 4.8235726e-02, -8.0906041e-03, -3.8158521e-03, -4.7187258e-02],\n",
       "       [ 8.9955233e-02, -7.0462422e-03, -3.9431676e-02,  5.7931121e-02],\n",
       "       [-5.2688088e-02,  7.2655544e-02,  2.8620288e-02, -2.7677704e-02]],\n",
       "      dtype=float32)"
      ]
     },
     "execution_count": 11,
     "metadata": {},
     "output_type": "execute_result"
    }
   ],
   "source": [
    "weights = model.get_layer('embedding').get_weights()[0]\n",
    "weights"
   ]
  },
  {
   "cell_type": "code",
   "execution_count": 12,
   "metadata": {},
   "outputs": [
    {
     "data": {
      "text/plain": [
       "30"
      ]
     },
     "execution_count": 12,
     "metadata": {},
     "output_type": "execute_result"
    }
   ],
   "source": [
    "len(weights)"
   ]
  },
  {
   "cell_type": "code",
   "execution_count": 13,
   "metadata": {},
   "outputs": [
    {
     "data": {
      "text/plain": [
       "array([[-0.05268809,  0.07265554,  0.02862029, -0.0276777 ]],\n",
       "      dtype=float32)"
      ]
     },
     "execution_count": 13,
     "metadata": {},
     "output_type": "execute_result"
    }
   ],
   "source": [
    "weights[one_hot('nice', vocab_size)]"
   ]
  },
  {
   "cell_type": "code",
   "execution_count": 14,
   "metadata": {},
   "outputs": [
    {
     "data": {
      "text/plain": [
       "array([[-0.00317401, -0.08626214,  0.0181815 ,  0.09764233]],\n",
       "      dtype=float32)"
      ]
     },
     "execution_count": 14,
     "metadata": {},
     "output_type": "execute_result"
    }
   ],
   "source": [
    "weights[one_hot('good', vocab_size)]"
   ]
  }
 ],
 "metadata": {
  "kernelspec": {
   "display_name": "Python 3",
   "language": "python",
   "name": "python3"
  },
  "language_info": {
   "codemirror_mode": {
    "name": "ipython",
    "version": 3
   },
   "file_extension": ".py",
   "mimetype": "text/x-python",
   "name": "python",
   "nbconvert_exporter": "python",
   "pygments_lexer": "ipython3",
   "version": "3.8.5"
  }
 },
 "nbformat": 4,
 "nbformat_minor": 4
}
